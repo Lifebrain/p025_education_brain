{
 "cells": [
  {
   "cell_type": "markdown",
   "metadata": {},
   "source": [
    "# Plot data!"
   ]
  },
  {
   "cell_type": "code",
   "execution_count": 1,
   "metadata": {},
   "outputs": [],
   "source": [
    "import pandas as pd\n",
    "import numpy as np\n",
    "import matplotlib.pyplot as plt"
   ]
  },
  {
   "cell_type": "code",
   "execution_count": 2,
   "metadata": {},
   "outputs": [],
   "source": [
    "data = \"../../../data/03_qdec_tables/ALL.sorted.qdec.table.dat\""
   ]
  },
  {
   "cell_type": "code",
   "execution_count": 3,
   "metadata": {},
   "outputs": [],
   "source": [
    "df = pd.read_csv(data,sep=\" \")"
   ]
  },
  {
   "cell_type": "code",
   "execution_count": 4,
   "metadata": {},
   "outputs": [
    {
     "data": {
      "text/html": [
       "<div>\n",
       "<style scoped>\n",
       "    .dataframe tbody tr th:only-of-type {\n",
       "        vertical-align: middle;\n",
       "    }\n",
       "\n",
       "    .dataframe tbody tr th {\n",
       "        vertical-align: top;\n",
       "    }\n",
       "\n",
       "    .dataframe thead th {\n",
       "        text-align: right;\n",
       "    }\n",
       "</style>\n",
       "<table border=\"1\" class=\"dataframe\">\n",
       "  <thead>\n",
       "    <tr style=\"text-align: right;\">\n",
       "      <th></th>\n",
       "      <th>fsid</th>\n",
       "      <th>fsid_base</th>\n",
       "      <th>int</th>\n",
       "      <th>bl_age</th>\n",
       "      <th>edu</th>\n",
       "      <th>sex</th>\n",
       "      <th>scanner</th>\n",
       "    </tr>\n",
       "  </thead>\n",
       "  <tbody>\n",
       "    <tr>\n",
       "      <th>0</th>\n",
       "      <td>sub-CO11128ses01mpibtrio</td>\n",
       "      <td>sub-CO11128_base_mpibtrio</td>\n",
       "      <td>0.00</td>\n",
       "      <td>32.71</td>\n",
       "      <td>16.0</td>\n",
       "      <td>0</td>\n",
       "      <td>mpibtrio</td>\n",
       "    </tr>\n",
       "    <tr>\n",
       "      <th>1</th>\n",
       "      <td>sub-CO11128ses02mpibtrio</td>\n",
       "      <td>sub-CO11128_base_mpibtrio</td>\n",
       "      <td>2.68</td>\n",
       "      <td>32.71</td>\n",
       "      <td>16.0</td>\n",
       "      <td>0</td>\n",
       "      <td>mpibtrio</td>\n",
       "    </tr>\n",
       "    <tr>\n",
       "      <th>2</th>\n",
       "      <td>sub-CO12210ses01mpibtrio</td>\n",
       "      <td>sub-CO12210_base_mpibtrio</td>\n",
       "      <td>0.00</td>\n",
       "      <td>33.87</td>\n",
       "      <td>13.0</td>\n",
       "      <td>1</td>\n",
       "      <td>mpibtrio</td>\n",
       "    </tr>\n",
       "    <tr>\n",
       "      <th>3</th>\n",
       "      <td>sub-CO12210ses02mpibtrio</td>\n",
       "      <td>sub-CO12210_base_mpibtrio</td>\n",
       "      <td>2.73</td>\n",
       "      <td>33.87</td>\n",
       "      <td>13.0</td>\n",
       "      <td>1</td>\n",
       "      <td>mpibtrio</td>\n",
       "    </tr>\n",
       "    <tr>\n",
       "      <th>4</th>\n",
       "      <td>sub-CO12264ses01mpibtrio</td>\n",
       "      <td>sub-CO12264_base_mpibtrio</td>\n",
       "      <td>0.00</td>\n",
       "      <td>30.28</td>\n",
       "      <td>13.0</td>\n",
       "      <td>1</td>\n",
       "      <td>mpibtrio</td>\n",
       "    </tr>\n",
       "  </tbody>\n",
       "</table>\n",
       "</div>"
      ],
      "text/plain": [
       "                       fsid                  fsid_base   int  bl_age   edu  \\\n",
       "0  sub-CO11128ses01mpibtrio  sub-CO11128_base_mpibtrio  0.00   32.71  16.0   \n",
       "1  sub-CO11128ses02mpibtrio  sub-CO11128_base_mpibtrio  2.68   32.71  16.0   \n",
       "2  sub-CO12210ses01mpibtrio  sub-CO12210_base_mpibtrio  0.00   33.87  13.0   \n",
       "3  sub-CO12210ses02mpibtrio  sub-CO12210_base_mpibtrio  2.73   33.87  13.0   \n",
       "4  sub-CO12264ses01mpibtrio  sub-CO12264_base_mpibtrio  0.00   30.28  13.0   \n",
       "\n",
       "   sex   scanner  \n",
       "0    0  mpibtrio  \n",
       "1    0  mpibtrio  \n",
       "2    1  mpibtrio  \n",
       "3    1  mpibtrio  \n",
       "4    1  mpibtrio  "
      ]
     },
     "execution_count": 4,
     "metadata": {},
     "output_type": "execute_result"
    }
   ],
   "source": [
    "df.head()"
   ]
  },
  {
   "cell_type": "code",
   "execution_count": 5,
   "metadata": {},
   "outputs": [
    {
     "data": {
      "text/plain": [
       "1858"
      ]
     },
     "execution_count": 5,
     "metadata": {},
     "output_type": "execute_result"
    }
   ],
   "source": [
    "len(df)"
   ]
  },
  {
   "cell_type": "code",
   "execution_count": 8,
   "metadata": {},
   "outputs": [
    {
     "data": {
      "text/plain": [
       "741"
      ]
     },
     "execution_count": 8,
     "metadata": {},
     "output_type": "execute_result"
    }
   ],
   "source": [
    "len(df[df['int']==0])"
   ]
  },
  {
   "cell_type": "code",
   "execution_count": 9,
   "metadata": {},
   "outputs": [],
   "source": [
    "df['id'] = df['fsid_base'].apply(lambda x: x.split(\"_\")[0])"
   ]
  },
  {
   "cell_type": "code",
   "execution_count": 10,
   "metadata": {},
   "outputs": [
    {
     "data": {
      "text/plain": [
       "742"
      ]
     },
     "execution_count": 10,
     "metadata": {},
     "output_type": "execute_result"
    }
   ],
   "source": [
    "len(df['id'].unique())"
   ]
  },
  {
   "cell_type": "code",
   "execution_count": 13,
   "metadata": {},
   "outputs": [],
   "source": [
    "df['age'] = df['int'] + df['bl_age']"
   ]
  },
  {
   "cell_type": "code",
   "execution_count": 14,
   "metadata": {},
   "outputs": [
    {
     "data": {
      "text/plain": [
       "29.15"
      ]
     },
     "execution_count": 14,
     "metadata": {},
     "output_type": "execute_result"
    }
   ],
   "source": [
    "min(df['age'])"
   ]
  },
  {
   "cell_type": "code",
   "execution_count": 15,
   "metadata": {},
   "outputs": [
    {
     "data": {
      "text/plain": [
       "89.72"
      ]
     },
     "execution_count": 15,
     "metadata": {},
     "output_type": "execute_result"
    }
   ],
   "source": [
    "max(df['age'])"
   ]
  },
  {
   "cell_type": "code",
   "execution_count": 17,
   "metadata": {},
   "outputs": [
    {
     "data": {
      "text/plain": [
       "370"
      ]
     },
     "execution_count": 17,
     "metadata": {},
     "output_type": "execute_result"
    }
   ],
   "source": [
    "len(df[(df['sex']==1) & (df['int']==0)])"
   ]
  },
  {
   "cell_type": "code",
   "execution_count": 22,
   "metadata": {},
   "outputs": [
    {
     "data": {
      "text/plain": [
       "366"
      ]
     },
     "execution_count": 22,
     "metadata": {},
     "output_type": "execute_result"
    }
   ],
   "source": [
    "len(df[(df['sex_coded']==0) & (df['years']==0)])"
   ]
  },
  {
   "cell_type": "code",
   "execution_count": 18,
   "metadata": {},
   "outputs": [
    {
     "data": {
      "text/plain": [
       "1638    0\n",
       "Name: sex, dtype: int64"
      ]
     },
     "execution_count": 18,
     "metadata": {},
     "output_type": "execute_result"
    }
   ],
   "source": [
    "df['sex'][df['id']=='sub-B0025.50'] # This participant has only 2nd timepoint."
   ]
  },
  {
   "cell_type": "code",
   "execution_count": 19,
   "metadata": {},
   "outputs": [],
   "source": [
    "df['diff_last_first_timepoint'] = df['id'].apply(lambda x: df['int'][df['id']==x].iloc[-1]-df['int'][df['id']==x].iloc[0])"
   ]
  },
  {
   "cell_type": "code",
   "execution_count": 21,
   "metadata": {},
   "outputs": [
    {
     "data": {
      "text/plain": [
       "4.0449257759784105"
      ]
     },
     "execution_count": 21,
     "metadata": {},
     "output_type": "execute_result"
    }
   ],
   "source": [
    "df[(df['int']==0)]['diff_last_first_timepoint'].mean()"
   ]
  },
  {
   "cell_type": "code",
   "execution_count": 23,
   "metadata": {},
   "outputs": [
    {
     "data": {
      "text/plain": [
       "1.05"
      ]
     },
     "execution_count": 23,
     "metadata": {},
     "output_type": "execute_result"
    }
   ],
   "source": [
    "min(df[(df['int']==0) & (df['diff_last_first_timepoint']>1)]['diff_last_first_timepoint'])"
   ]
  },
  {
   "cell_type": "code",
   "execution_count": 24,
   "metadata": {},
   "outputs": [
    {
     "data": {
      "text/plain": [
       "11.23"
      ]
     },
     "execution_count": 24,
     "metadata": {},
     "output_type": "execute_result"
    }
   ],
   "source": [
    "max(df[(df['int']==0) & (df['diff_last_first_timepoint']>1)]['diff_last_first_timepoint'])"
   ]
  },
  {
   "cell_type": "code",
   "execution_count": 25,
   "metadata": {},
   "outputs": [
    {
     "data": {
      "text/plain": [
       "(array([324., 329., 318., 271.,   0.,  34.,  90., 280., 125.,  55.]),\n",
       " array([ 1.05 ,  2.068,  3.086,  4.104,  5.122,  6.14 ,  7.158,  8.176,\n",
       "         9.194, 10.212, 11.23 ]),\n",
       " <a list of 10 Patch objects>)"
      ]
     },
     "execution_count": 25,
     "metadata": {},
     "output_type": "execute_result"
    },
    {
     "data": {
      "image/png": "[encoded data removed]",
      "text/plain": [
       "<Figure size 432x288 with 1 Axes>"
      ]
     },
     "metadata": {
      "needs_background": "light"
     },
     "output_type": "display_data"
    }
   ],
   "source": [
    "plt.hist(df['diff_last_first_timepoint'][df['diff_last_first_timepoint']>1])"
   ]
  },
  {
   "cell_type": "code",
   "execution_count": 26,
   "metadata": {},
   "outputs": [
    {
     "data": {
      "text/html": [
       "<div>\n",
       "<style scoped>\n",
       "    .dataframe tbody tr th:only-of-type {\n",
       "        vertical-align: middle;\n",
       "    }\n",
       "\n",
       "    .dataframe tbody tr th {\n",
       "        vertical-align: top;\n",
       "    }\n",
       "\n",
       "    .dataframe thead th {\n",
       "        text-align: right;\n",
       "    }\n",
       "</style>\n",
       "<table border=\"1\" class=\"dataframe\">\n",
       "  <thead>\n",
       "    <tr style=\"text-align: right;\">\n",
       "      <th></th>\n",
       "      <th>fsid</th>\n",
       "      <th>fsid_base</th>\n",
       "      <th>int</th>\n",
       "      <th>bl_age</th>\n",
       "      <th>edu</th>\n",
       "      <th>sex</th>\n",
       "      <th>scanner</th>\n",
       "      <th>id</th>\n",
       "      <th>age</th>\n",
       "      <th>diff_last_first_timepoint</th>\n",
       "    </tr>\n",
       "  </thead>\n",
       "  <tbody>\n",
       "    <tr>\n",
       "      <th>1638</th>\n",
       "      <td>sub-B0025.50ses02umuDISCOVERYMR750</td>\n",
       "      <td>sub-B0025.50_base_umuDISCOVERYMR750</td>\n",
       "      <td>5.0</td>\n",
       "      <td>71.0</td>\n",
       "      <td>16.0</td>\n",
       "      <td>0</td>\n",
       "      <td>umuDISCOVERYMR750</td>\n",
       "      <td>sub-B0025.50</td>\n",
       "      <td>76.0</td>\n",
       "      <td>0.0</td>\n",
       "    </tr>\n",
       "    <tr>\n",
       "      <th>1789</th>\n",
       "      <td>sub-B2505.30ses01umuDISCOVERYMR750</td>\n",
       "      <td>sub-B2505.30_base_umuDISCOVERYMR750</td>\n",
       "      <td>0.0</td>\n",
       "      <td>30.0</td>\n",
       "      <td>14.0</td>\n",
       "      <td>0</td>\n",
       "      <td>umuDISCOVERYMR750</td>\n",
       "      <td>sub-B2505.30</td>\n",
       "      <td>30.0</td>\n",
       "      <td>0.0</td>\n",
       "    </tr>\n",
       "  </tbody>\n",
       "</table>\n",
       "</div>"
      ],
      "text/plain": [
       "                                    fsid                            fsid_base  \\\n",
       "1638  sub-B0025.50ses02umuDISCOVERYMR750  sub-B0025.50_base_umuDISCOVERYMR750   \n",
       "1789  sub-B2505.30ses01umuDISCOVERYMR750  sub-B2505.30_base_umuDISCOVERYMR750   \n",
       "\n",
       "      int  bl_age   edu  sex            scanner            id   age  \\\n",
       "1638  5.0    71.0  16.0    0  umuDISCOVERYMR750  sub-B0025.50  76.0   \n",
       "1789  0.0    30.0  14.0    0  umuDISCOVERYMR750  sub-B2505.30  30.0   \n",
       "\n",
       "      diff_last_first_timepoint  \n",
       "1638                        0.0  \n",
       "1789                        0.0  "
      ]
     },
     "execution_count": 26,
     "metadata": {},
     "output_type": "execute_result"
    }
   ],
   "source": [
    "df[df['diff_last_first_timepoint']<1]"
   ]
  },
  {
   "cell_type": "code",
   "execution_count": 27,
   "metadata": {},
   "outputs": [
    {
     "data": {
      "text/html": [
       "<div>\n",
       "<style scoped>\n",
       "    .dataframe tbody tr th:only-of-type {\n",
       "        vertical-align: middle;\n",
       "    }\n",
       "\n",
       "    .dataframe tbody tr th {\n",
       "        vertical-align: top;\n",
       "    }\n",
       "\n",
       "    .dataframe thead th {\n",
       "        text-align: right;\n",
       "    }\n",
       "</style>\n",
       "<table border=\"1\" class=\"dataframe\">\n",
       "  <thead>\n",
       "    <tr style=\"text-align: right;\">\n",
       "      <th></th>\n",
       "      <th>fsid</th>\n",
       "      <th>fsid_base</th>\n",
       "      <th>int</th>\n",
       "      <th>bl_age</th>\n",
       "      <th>edu</th>\n",
       "      <th>sex</th>\n",
       "      <th>scanner</th>\n",
       "      <th>id</th>\n",
       "      <th>age</th>\n",
       "      <th>diff_last_first_timepoint</th>\n",
       "    </tr>\n",
       "  </thead>\n",
       "  <tbody>\n",
       "    <tr>\n",
       "      <th>1789</th>\n",
       "      <td>sub-B2505.30ses01umuDISCOVERYMR750</td>\n",
       "      <td>sub-B2505.30_base_umuDISCOVERYMR750</td>\n",
       "      <td>0.0</td>\n",
       "      <td>30.0</td>\n",
       "      <td>14.0</td>\n",
       "      <td>0</td>\n",
       "      <td>umuDISCOVERYMR750</td>\n",
       "      <td>sub-B2505.30</td>\n",
       "      <td>30.0</td>\n",
       "      <td>0.0</td>\n",
       "    </tr>\n",
       "  </tbody>\n",
       "</table>\n",
       "</div>"
      ],
      "text/plain": [
       "                                    fsid                            fsid_base  \\\n",
       "1789  sub-B2505.30ses01umuDISCOVERYMR750  sub-B2505.30_base_umuDISCOVERYMR750   \n",
       "\n",
       "      int  bl_age   edu  sex            scanner            id   age  \\\n",
       "1789  0.0    30.0  14.0    0  umuDISCOVERYMR750  sub-B2505.30  30.0   \n",
       "\n",
       "      diff_last_first_timepoint  \n",
       "1789                        0.0  "
      ]
     },
     "execution_count": 27,
     "metadata": {},
     "output_type": "execute_result"
    }
   ],
   "source": [
    "df[df['id']=='sub-B2505.30']"
   ]
  },
  {
   "cell_type": "code",
   "execution_count": 29,
   "metadata": {},
   "outputs": [
    {
     "data": {
      "text/plain": [
       "11.23"
      ]
     },
     "execution_count": 29,
     "metadata": {},
     "output_type": "execute_result"
    }
   ],
   "source": [
    "max(df[df['int']==0]['diff_last_first_timepoint'])"
   ]
  },
  {
   "cell_type": "code",
   "execution_count": 30,
   "metadata": {},
   "outputs": [],
   "source": [
    "aseg_data = \"../../../data/05_aseg_tables/ALL.aseg.long.table\""
   ]
  },
  {
   "cell_type": "code",
   "execution_count": 31,
   "metadata": {},
   "outputs": [
    {
     "data": {
      "text/html": [
       "<div>\n",
       "<style scoped>\n",
       "    .dataframe tbody tr th:only-of-type {\n",
       "        vertical-align: middle;\n",
       "    }\n",
       "\n",
       "    .dataframe tbody tr th {\n",
       "        vertical-align: top;\n",
       "    }\n",
       "\n",
       "    .dataframe thead th {\n",
       "        text-align: right;\n",
       "    }\n",
       "</style>\n",
       "<table border=\"1\" class=\"dataframe\">\n",
       "  <thead>\n",
       "    <tr style=\"text-align: right;\">\n",
       "      <th></th>\n",
       "      <th>Measure:volume</th>\n",
       "      <th>Left-Lateral-Ventricle</th>\n",
       "      <th>Left-Inf-Lat-Vent</th>\n",
       "      <th>Left-Cerebellum-White-Matter</th>\n",
       "      <th>Left-Cerebellum-Cortex</th>\n",
       "      <th>Left-Thalamus</th>\n",
       "      <th>Left-Caudate</th>\n",
       "      <th>Left-Putamen</th>\n",
       "      <th>Left-Pallidum</th>\n",
       "      <th>3rd-Ventricle</th>\n",
       "      <th>...</th>\n",
       "      <th>rhCerebralWhiteMatterVol</th>\n",
       "      <th>CerebralWhiteMatterVol</th>\n",
       "      <th>SubCortGrayVol</th>\n",
       "      <th>TotalGrayVol</th>\n",
       "      <th>SupraTentorialVol</th>\n",
       "      <th>SupraTentorialVolNotVent</th>\n",
       "      <th>MaskVol</th>\n",
       "      <th>BrainSegVol-to-eTIV</th>\n",
       "      <th>MaskVol-to-eTIV</th>\n",
       "      <th>EstimatedTotalIntraCranialVol</th>\n",
       "    </tr>\n",
       "  </thead>\n",
       "  <tbody>\n",
       "    <tr>\n",
       "      <th>0</th>\n",
       "      <td>sub-CO11128ses01mpibtrio.long.sub-CO11128_base...</td>\n",
       "      <td>18606.0</td>\n",
       "      <td>713.9</td>\n",
       "      <td>20286.4</td>\n",
       "      <td>69147.6</td>\n",
       "      <td>8224.4</td>\n",
       "      <td>4860.0</td>\n",
       "      <td>5503.1</td>\n",
       "      <td>2313.2</td>\n",
       "      <td>1346.8</td>\n",
       "      <td>...</td>\n",
       "      <td>283121.5</td>\n",
       "      <td>569291.0</td>\n",
       "      <td>71877.0</td>\n",
       "      <td>757456.925523</td>\n",
       "      <td>1229520.0</td>\n",
       "      <td>1185431.0</td>\n",
       "      <td>1891895.0</td>\n",
       "      <td>0.804464</td>\n",
       "      <td>1.081050</td>\n",
       "      <td>1.750053e+06</td>\n",
       "    </tr>\n",
       "    <tr>\n",
       "      <th>1</th>\n",
       "      <td>sub-CO11128ses02mpibtrio.long.sub-CO11128_base...</td>\n",
       "      <td>19724.8</td>\n",
       "      <td>822.1</td>\n",
       "      <td>19493.0</td>\n",
       "      <td>69544.1</td>\n",
       "      <td>8172.9</td>\n",
       "      <td>4760.0</td>\n",
       "      <td>5515.4</td>\n",
       "      <td>2365.3</td>\n",
       "      <td>1323.0</td>\n",
       "      <td>...</td>\n",
       "      <td>282860.0</td>\n",
       "      <td>566976.0</td>\n",
       "      <td>71308.0</td>\n",
       "      <td>742614.624707</td>\n",
       "      <td>1213118.0</td>\n",
       "      <td>1166601.0</td>\n",
       "      <td>1891999.0</td>\n",
       "      <td>0.794868</td>\n",
       "      <td>1.081109</td>\n",
       "      <td>1.750053e+06</td>\n",
       "    </tr>\n",
       "    <tr>\n",
       "      <th>2</th>\n",
       "      <td>sub-CO12210ses01mpibtrio.long.sub-CO12210_base...</td>\n",
       "      <td>4397.1</td>\n",
       "      <td>357.1</td>\n",
       "      <td>12691.7</td>\n",
       "      <td>49154.9</td>\n",
       "      <td>6823.0</td>\n",
       "      <td>3439.4</td>\n",
       "      <td>4885.6</td>\n",
       "      <td>1868.5</td>\n",
       "      <td>855.6</td>\n",
       "      <td>...</td>\n",
       "      <td>197220.0</td>\n",
       "      <td>398207.0</td>\n",
       "      <td>58341.0</td>\n",
       "      <td>625112.129373</td>\n",
       "      <td>936981.0</td>\n",
       "      <td>923032.0</td>\n",
       "      <td>1413097.0</td>\n",
       "      <td>1.065476</td>\n",
       "      <td>1.421804</td>\n",
       "      <td>9.938759e+05</td>\n",
       "    </tr>\n",
       "    <tr>\n",
       "      <th>3</th>\n",
       "      <td>sub-CO12210ses02mpibtrio.long.sub-CO12210_base...</td>\n",
       "      <td>5341.5</td>\n",
       "      <td>416.8</td>\n",
       "      <td>11922.3</td>\n",
       "      <td>47895.8</td>\n",
       "      <td>6565.7</td>\n",
       "      <td>3293.5</td>\n",
       "      <td>4782.4</td>\n",
       "      <td>1832.5</td>\n",
       "      <td>983.8</td>\n",
       "      <td>...</td>\n",
       "      <td>194308.0</td>\n",
       "      <td>390834.0</td>\n",
       "      <td>56262.0</td>\n",
       "      <td>603616.291804</td>\n",
       "      <td>912123.0</td>\n",
       "      <td>895930.0</td>\n",
       "      <td>1415335.0</td>\n",
       "      <td>1.037297</td>\n",
       "      <td>1.424056</td>\n",
       "      <td>9.938759e+05</td>\n",
       "    </tr>\n",
       "    <tr>\n",
       "      <th>4</th>\n",
       "      <td>sub-CO12264ses01mpibtrio.long.sub-CO12264_base...</td>\n",
       "      <td>3134.3</td>\n",
       "      <td>224.1</td>\n",
       "      <td>16199.0</td>\n",
       "      <td>50818.7</td>\n",
       "      <td>8057.3</td>\n",
       "      <td>3209.1</td>\n",
       "      <td>5296.9</td>\n",
       "      <td>1954.1</td>\n",
       "      <td>798.4</td>\n",
       "      <td>...</td>\n",
       "      <td>216630.5</td>\n",
       "      <td>437208.0</td>\n",
       "      <td>62105.0</td>\n",
       "      <td>632284.863164</td>\n",
       "      <td>975996.0</td>\n",
       "      <td>964597.0</td>\n",
       "      <td>1412289.0</td>\n",
       "      <td>1.084045</td>\n",
       "      <td>1.379673</td>\n",
       "      <td>1.023641e+06</td>\n",
       "    </tr>\n",
       "  </tbody>\n",
       "</table>\n",
       "<p>5 rows × 62 columns</p>\n",
       "</div>"
      ],
      "text/plain": [
       "                                      Measure:volume  Left-Lateral-Ventricle  \\\n",
       "0  sub-CO11128ses01mpibtrio.long.sub-CO11128_base...                 18606.0   \n",
       "1  sub-CO11128ses02mpibtrio.long.sub-CO11128_base...                 19724.8   \n",
       "2  sub-CO12210ses01mpibtrio.long.sub-CO12210_base...                  4397.1   \n",
       "3  sub-CO12210ses02mpibtrio.long.sub-CO12210_base...                  5341.5   \n",
       "4  sub-CO12264ses01mpibtrio.long.sub-CO12264_base...                  3134.3   \n",
       "\n",
       "   Left-Inf-Lat-Vent  Left-Cerebellum-White-Matter  Left-Cerebellum-Cortex  \\\n",
       "0              713.9                       20286.4                 69147.6   \n",
       "1              822.1                       19493.0                 69544.1   \n",
       "2              357.1                       12691.7                 49154.9   \n",
       "3              416.8                       11922.3                 47895.8   \n",
       "4              224.1                       16199.0                 50818.7   \n",
       "\n",
       "   Left-Thalamus  Left-Caudate  Left-Putamen  Left-Pallidum  3rd-Ventricle  \\\n",
       "0         8224.4        4860.0        5503.1         2313.2         1346.8   \n",
       "1         8172.9        4760.0        5515.4         2365.3         1323.0   \n",
       "2         6823.0        3439.4        4885.6         1868.5          855.6   \n",
       "3         6565.7        3293.5        4782.4         1832.5          983.8   \n",
       "4         8057.3        3209.1        5296.9         1954.1          798.4   \n",
       "\n",
       "               ...                rhCerebralWhiteMatterVol  \\\n",
       "0              ...                                283121.5   \n",
       "1              ...                                282860.0   \n",
       "2              ...                                197220.0   \n",
       "3              ...                                194308.0   \n",
       "4              ...                                216630.5   \n",
       "\n",
       "   CerebralWhiteMatterVol  SubCortGrayVol   TotalGrayVol  SupraTentorialVol  \\\n",
       "0                569291.0         71877.0  757456.925523          1229520.0   \n",
       "1                566976.0         71308.0  742614.624707          1213118.0   \n",
       "2                398207.0         58341.0  625112.129373           936981.0   \n",
       "3                390834.0         56262.0  603616.291804           912123.0   \n",
       "4                437208.0         62105.0  632284.863164           975996.0   \n",
       "\n",
       "   SupraTentorialVolNotVent    MaskVol  BrainSegVol-to-eTIV  MaskVol-to-eTIV  \\\n",
       "0                 1185431.0  1891895.0             0.804464         1.081050   \n",
       "1                 1166601.0  1891999.0             0.794868         1.081109   \n",
       "2                  923032.0  1413097.0             1.065476         1.421804   \n",
       "3                  895930.0  1415335.0             1.037297         1.424056   \n",
       "4                  964597.0  1412289.0             1.084045         1.379673   \n",
       "\n",
       "   EstimatedTotalIntraCranialVol  \n",
       "0                   1.750053e+06  \n",
       "1                   1.750053e+06  \n",
       "2                   9.938759e+05  \n",
       "3                   9.938759e+05  \n",
       "4                   1.023641e+06  \n",
       "\n",
       "[5 rows x 62 columns]"
      ]
     },
     "execution_count": 31,
     "metadata": {},
     "output_type": "execute_result"
    }
   ],
   "source": [
    "df_aseg = pd.read_csv(aseg_data,sep=\"\\t\")\n",
    "df_aseg.head()"
   ]
  },
  {
   "cell_type": "code",
   "execution_count": 33,
   "metadata": {},
   "outputs": [
    {
     "data": {
      "image/png": "[encoded data removed]",
      "text/plain": [
       "<Figure size 432x288 with 1 Axes>"
      ]
     },
     "metadata": {
      "needs_background": "light"
     },
     "output_type": "display_data"
    }
   ],
   "source": [
    "plt.hist(df['bl_age'])\n",
    "plt.show()"
   ]
  },
  {
   "cell_type": "code",
   "execution_count": 34,
   "metadata": {},
   "outputs": [
    {
     "data": {
      "image/png": "[encoded data removed]",
      "text/plain": [
       "<Figure size 432x288 with 1 Axes>"
      ]
     },
     "metadata": {
      "needs_background": "light"
     },
     "output_type": "display_data"
    }
   ],
   "source": [
    "plt.hist(df['edu'])\n",
    "plt.show()"
   ]
  },
  {
   "cell_type": "code",
   "execution_count": 36,
   "metadata": {},
   "outputs": [
    {
     "data": {
      "image/png": "[encoded data removed]",
      "text/plain": [
       "<Figure size 432x288 with 1 Axes>"
      ]
     },
     "metadata": {
      "needs_background": "light"
     },
     "output_type": "display_data"
    }
   ],
   "source": [
    "plt.hist(df[df['int']==0]['int'])\n",
    "plt.show()"
   ]
  },
  {
   "cell_type": "code",
   "execution_count": 38,
   "metadata": {},
   "outputs": [
    {
     "data": {
      "image/png": "[encoded data removed]",
      "text/plain": [
       "<Figure size 432x288 with 1 Axes>"
      ]
     },
     "metadata": {
      "needs_background": "light"
     },
     "output_type": "display_data"
    }
   ],
   "source": [
    "plt.hist(df[df['int']>0]['int'])\n",
    "plt.show()"
   ]
  },
  {
   "cell_type": "code",
   "execution_count": 39,
   "metadata": {},
   "outputs": [
    {
     "data": {
      "image/png": "[encoded data removed]",
      "text/plain": [
       "<Figure size 432x288 with 1 Axes>"
      ]
     },
     "metadata": {
      "needs_background": "light"
     },
     "output_type": "display_data"
    }
   ],
   "source": [
    "plt.hist(df['sex'])\n",
    "plt.show()"
   ]
  },
  {
   "cell_type": "code",
   "execution_count": 40,
   "metadata": {},
   "outputs": [
    {
     "data": {
      "text/plain": [
       "array(['mpibtrio', 'ubTriotrim', 'ucamTrioTrim', 'ousAvanto', 'ousSkyra',\n",
       "       'umuDISCOVERYMR750'], dtype=object)"
      ]
     },
     "execution_count": 40,
     "metadata": {},
     "output_type": "execute_result"
    }
   ],
   "source": [
    "pd.unique(df['scanner'])"
   ]
  },
  {
   "cell_type": "code",
   "execution_count": 41,
   "metadata": {},
   "outputs": [
    {
     "data": {
      "image/png": "[encoded data removed]",
      "text/plain": [
       "<Figure size 432x288 with 1 Axes>"
      ]
     },
     "metadata": {
      "needs_background": "light"
     },
     "output_type": "display_data"
    }
   ],
   "source": [
    "plt.hist(df[df['scanner']==\"mpibtrio\"]['edu'])\n",
    "plt.show()"
   ]
  },
  {
   "cell_type": "code",
   "execution_count": 42,
   "metadata": {},
   "outputs": [
    {
     "data": {
      "image/png": "[encoded data removed]",
      "text/plain": [
       "<Figure size 432x288 with 1 Axes>"
      ]
     },
     "metadata": {
      "needs_background": "light"
     },
     "output_type": "display_data"
    }
   ],
   "source": [
    "plt.hist(df[df['scanner']==\"ubTriotrim\"]['edu'])\n",
    "plt.show()"
   ]
  },
  {
   "cell_type": "code",
   "execution_count": 43,
   "metadata": {},
   "outputs": [
    {
     "data": {
      "image/png": "[encoded data removed]",
      "text/plain": [
       "<Figure size 432x288 with 1 Axes>"
      ]
     },
     "metadata": {
      "needs_background": "light"
     },
     "output_type": "display_data"
    }
   ],
   "source": [
    "plt.hist(df[df['scanner']==\"ucamTrioTrim\"]['edu'])\n",
    "plt.show()"
   ]
  },
  {
   "cell_type": "code",
   "execution_count": 44,
   "metadata": {},
   "outputs": [
    {
     "data": {
      "image/png": "[encoded data removed]",
      "text/plain": [
       "<Figure size 432x288 with 1 Axes>"
      ]
     },
     "metadata": {
      "needs_background": "light"
     },
     "output_type": "display_data"
    }
   ],
   "source": [
    "plt.hist(df[df['scanner']==\"ousAvanto\"]['edu'])\n",
    "plt.show()"
   ]
  },
  {
   "cell_type": "code",
   "execution_count": 45,
   "metadata": {},
   "outputs": [
    {
     "data": {
      "image/png": "[encoded data removed]",
      "text/plain": [
       "<Figure size 432x288 with 1 Axes>"
      ]
     },
     "metadata": {
      "needs_background": "light"
     },
     "output_type": "display_data"
    }
   ],
   "source": [
    "plt.hist(df[df['scanner']==\"ousSkyra\"]['edu'])\n",
    "plt.show()"
   ]
  },
  {
   "cell_type": "code",
   "execution_count": 46,
   "metadata": {},
   "outputs": [
    {
     "data": {
      "image/png": "[encoded data removed]",
      "text/plain": [
       "<Figure size 432x288 with 1 Axes>"
      ]
     },
     "metadata": {
      "needs_background": "light"
     },
     "output_type": "display_data"
    }
   ],
   "source": [
    "plt.hist(df[df['scanner']==\"umuDISCOVERYMR750\"]['edu'])\n",
    "plt.show()"
   ]
  },
  {
   "cell_type": "code",
   "execution_count": null,
   "metadata": {},
   "outputs": [],
   "source": []
  }
 ],
 "metadata": {
  "kernelspec": {
   "display_name": "Python 3",
   "language": "python",
   "name": "python3"
  },
  "language_info": {
   "codemirror_mode": {
    "name": "ipython",
    "version": 3
   },
   "file_extension": ".py",
   "mimetype": "text/x-python",
   "name": "python",
   "nbconvert_exporter": "python",
   "pygments_lexer": "ipython3",
   "version": "3.7.0"
  }
 },
 "nbformat": 4,
 "nbformat_minor": 2
}
